{
 "cells": [
  {
   "cell_type": "code",
   "execution_count": 47,
   "id": "62137921",
   "metadata": {},
   "outputs": [],
   "source": [
    "import pandas as pd\n",
    "import numpy as np\n",
    "import time\n",
    "import matplotlib.pyplot as plt\n",
    "import seaborn as sns\n",
    "\n",
    "from sklearn.metrics import classification_report, confusion_matrix, accuracy_score\n",
    "from sklearn.utils import resample\n",
    "from sklearn.metrics import classification_report, accuracy_score, confusion_matrix\n",
    "from sklearn.utils.class_weight import compute_class_weight\n",
    "from sklearn.model_selection import train_test_split\n",
    "from sklearn.preprocessing import LabelEncoder\n",
    "from sklearn.preprocessing import StandardScaler"
   ]
  },
  {
   "cell_type": "code",
   "execution_count": 39,
   "id": "b51d36f0",
   "metadata": {},
   "outputs": [],
   "source": [
    "df = pd.read_csv('data/WSN-DS.csv')"
   ]
  },
  {
   "cell_type": "code",
   "execution_count": 40,
   "id": "444b96f3",
   "metadata": {},
   "outputs": [
    {
     "data": {
      "text/html": [
       "<div>\n",
       "<style scoped>\n",
       "    .dataframe tbody tr th:only-of-type {\n",
       "        vertical-align: middle;\n",
       "    }\n",
       "\n",
       "    .dataframe tbody tr th {\n",
       "        vertical-align: top;\n",
       "    }\n",
       "\n",
       "    .dataframe thead th {\n",
       "        text-align: right;\n",
       "    }\n",
       "</style>\n",
       "<table border=\"1\" class=\"dataframe\">\n",
       "  <thead>\n",
       "    <tr style=\"text-align: right;\">\n",
       "      <th></th>\n",
       "      <th>id</th>\n",
       "      <th>Time</th>\n",
       "      <th>Is_CH</th>\n",
       "      <th>who CH</th>\n",
       "      <th>Dist_To_CH</th>\n",
       "      <th>ADV_S</th>\n",
       "      <th>ADV_R</th>\n",
       "      <th>JOIN_S</th>\n",
       "      <th>JOIN_R</th>\n",
       "      <th>SCH_S</th>\n",
       "      <th>SCH_R</th>\n",
       "      <th>Rank</th>\n",
       "      <th>DATA_S</th>\n",
       "      <th>DATA_R</th>\n",
       "      <th>Data_Sent_To_BS</th>\n",
       "      <th>dist_CH_To_BS</th>\n",
       "      <th>send_code</th>\n",
       "      <th>Expaned Energy</th>\n",
       "      <th>Attack type</th>\n",
       "    </tr>\n",
       "  </thead>\n",
       "  <tbody>\n",
       "    <tr>\n",
       "      <th>0</th>\n",
       "      <td>101000</td>\n",
       "      <td>50</td>\n",
       "      <td>1</td>\n",
       "      <td>101000</td>\n",
       "      <td>0.00000</td>\n",
       "      <td>1</td>\n",
       "      <td>0</td>\n",
       "      <td>0</td>\n",
       "      <td>25</td>\n",
       "      <td>1</td>\n",
       "      <td>0</td>\n",
       "      <td>0</td>\n",
       "      <td>0</td>\n",
       "      <td>1200</td>\n",
       "      <td>48</td>\n",
       "      <td>130.08535</td>\n",
       "      <td>0</td>\n",
       "      <td>2.46940</td>\n",
       "      <td>Normal</td>\n",
       "    </tr>\n",
       "    <tr>\n",
       "      <th>1</th>\n",
       "      <td>101001</td>\n",
       "      <td>50</td>\n",
       "      <td>0</td>\n",
       "      <td>101044</td>\n",
       "      <td>75.32345</td>\n",
       "      <td>0</td>\n",
       "      <td>4</td>\n",
       "      <td>1</td>\n",
       "      <td>0</td>\n",
       "      <td>0</td>\n",
       "      <td>1</td>\n",
       "      <td>2</td>\n",
       "      <td>38</td>\n",
       "      <td>0</td>\n",
       "      <td>0</td>\n",
       "      <td>0.00000</td>\n",
       "      <td>4</td>\n",
       "      <td>0.06957</td>\n",
       "      <td>Normal</td>\n",
       "    </tr>\n",
       "    <tr>\n",
       "      <th>2</th>\n",
       "      <td>101002</td>\n",
       "      <td>50</td>\n",
       "      <td>0</td>\n",
       "      <td>101010</td>\n",
       "      <td>46.95453</td>\n",
       "      <td>0</td>\n",
       "      <td>4</td>\n",
       "      <td>1</td>\n",
       "      <td>0</td>\n",
       "      <td>0</td>\n",
       "      <td>1</td>\n",
       "      <td>19</td>\n",
       "      <td>41</td>\n",
       "      <td>0</td>\n",
       "      <td>0</td>\n",
       "      <td>0.00000</td>\n",
       "      <td>3</td>\n",
       "      <td>0.06898</td>\n",
       "      <td>Normal</td>\n",
       "    </tr>\n",
       "    <tr>\n",
       "      <th>3</th>\n",
       "      <td>101003</td>\n",
       "      <td>50</td>\n",
       "      <td>0</td>\n",
       "      <td>101044</td>\n",
       "      <td>64.85231</td>\n",
       "      <td>0</td>\n",
       "      <td>4</td>\n",
       "      <td>1</td>\n",
       "      <td>0</td>\n",
       "      <td>0</td>\n",
       "      <td>1</td>\n",
       "      <td>16</td>\n",
       "      <td>38</td>\n",
       "      <td>0</td>\n",
       "      <td>0</td>\n",
       "      <td>0.00000</td>\n",
       "      <td>4</td>\n",
       "      <td>0.06673</td>\n",
       "      <td>Normal</td>\n",
       "    </tr>\n",
       "    <tr>\n",
       "      <th>4</th>\n",
       "      <td>101004</td>\n",
       "      <td>50</td>\n",
       "      <td>0</td>\n",
       "      <td>101010</td>\n",
       "      <td>4.83341</td>\n",
       "      <td>0</td>\n",
       "      <td>4</td>\n",
       "      <td>1</td>\n",
       "      <td>0</td>\n",
       "      <td>0</td>\n",
       "      <td>1</td>\n",
       "      <td>25</td>\n",
       "      <td>41</td>\n",
       "      <td>0</td>\n",
       "      <td>0</td>\n",
       "      <td>0.00000</td>\n",
       "      <td>3</td>\n",
       "      <td>0.06534</td>\n",
       "      <td>Normal</td>\n",
       "    </tr>\n",
       "  </tbody>\n",
       "</table>\n",
       "</div>"
      ],
      "text/plain": [
       "       id   Time   Is_CH   who CH   Dist_To_CH   ADV_S   ADV_R   JOIN_S  \\\n",
       "0  101000     50       1   101000      0.00000       1       0        0   \n",
       "1  101001     50       0   101044     75.32345       0       4        1   \n",
       "2  101002     50       0   101010     46.95453       0       4        1   \n",
       "3  101003     50       0   101044     64.85231       0       4        1   \n",
       "4  101004     50       0   101010      4.83341       0       4        1   \n",
       "\n",
       "    JOIN_R   SCH_S   SCH_R  Rank   DATA_S   DATA_R   Data_Sent_To_BS  \\\n",
       "0       25       1       0     0        0     1200                48   \n",
       "1        0       0       1     2       38        0                 0   \n",
       "2        0       0       1    19       41        0                 0   \n",
       "3        0       0       1    16       38        0                 0   \n",
       "4        0       0       1    25       41        0                 0   \n",
       "\n",
       "    dist_CH_To_BS   send_code   Expaned Energy Attack type  \n",
       "0       130.08535            0         2.46940      Normal  \n",
       "1         0.00000            4         0.06957      Normal  \n",
       "2         0.00000            3         0.06898      Normal  \n",
       "3         0.00000            4         0.06673      Normal  \n",
       "4         0.00000            3         0.06534      Normal  "
      ]
     },
     "execution_count": 40,
     "metadata": {},
     "output_type": "execute_result"
    }
   ],
   "source": [
    "df.head()"
   ]
  },
  {
   "cell_type": "code",
   "execution_count": 41,
   "id": "42e0ffff",
   "metadata": {},
   "outputs": [
    {
     "data": {
      "text/html": [
       "<div>\n",
       "<style scoped>\n",
       "    .dataframe tbody tr th:only-of-type {\n",
       "        vertical-align: middle;\n",
       "    }\n",
       "\n",
       "    .dataframe tbody tr th {\n",
       "        vertical-align: top;\n",
       "    }\n",
       "\n",
       "    .dataframe thead th {\n",
       "        text-align: right;\n",
       "    }\n",
       "</style>\n",
       "<table border=\"1\" class=\"dataframe\">\n",
       "  <thead>\n",
       "    <tr style=\"text-align: right;\">\n",
       "      <th></th>\n",
       "      <th>id</th>\n",
       "      <th>Time</th>\n",
       "      <th>Is_CH</th>\n",
       "      <th>who CH</th>\n",
       "      <th>Dist_To_CH</th>\n",
       "      <th>ADV_S</th>\n",
       "      <th>ADV_R</th>\n",
       "      <th>JOIN_S</th>\n",
       "      <th>JOIN_R</th>\n",
       "      <th>SCH_S</th>\n",
       "      <th>SCH_R</th>\n",
       "      <th>Rank</th>\n",
       "      <th>DATA_S</th>\n",
       "      <th>DATA_R</th>\n",
       "      <th>Data_Sent_To_BS</th>\n",
       "      <th>dist_CH_To_BS</th>\n",
       "      <th>send_code</th>\n",
       "      <th>Expaned Energy</th>\n",
       "    </tr>\n",
       "  </thead>\n",
       "  <tbody>\n",
       "    <tr>\n",
       "      <th>count</th>\n",
       "      <td>3.746610e+05</td>\n",
       "      <td>374661.000000</td>\n",
       "      <td>374661.000000</td>\n",
       "      <td>3.746610e+05</td>\n",
       "      <td>374661.000000</td>\n",
       "      <td>374661.000000</td>\n",
       "      <td>374661.000000</td>\n",
       "      <td>374661.000000</td>\n",
       "      <td>374661.000000</td>\n",
       "      <td>374661.000000</td>\n",
       "      <td>374661.000000</td>\n",
       "      <td>374661.000000</td>\n",
       "      <td>374661.000000</td>\n",
       "      <td>374661.000000</td>\n",
       "      <td>374661.000000</td>\n",
       "      <td>374661.000000</td>\n",
       "      <td>374661.000000</td>\n",
       "      <td>374661.000000</td>\n",
       "    </tr>\n",
       "    <tr>\n",
       "      <th>mean</th>\n",
       "      <td>2.749693e+05</td>\n",
       "      <td>1064.748712</td>\n",
       "      <td>0.115766</td>\n",
       "      <td>2.749804e+05</td>\n",
       "      <td>22.599380</td>\n",
       "      <td>0.267698</td>\n",
       "      <td>6.940562</td>\n",
       "      <td>0.779905</td>\n",
       "      <td>0.737493</td>\n",
       "      <td>0.288984</td>\n",
       "      <td>0.747452</td>\n",
       "      <td>9.687104</td>\n",
       "      <td>44.857925</td>\n",
       "      <td>73.890045</td>\n",
       "      <td>4.569448</td>\n",
       "      <td>22.562735</td>\n",
       "      <td>2.497957</td>\n",
       "      <td>0.305661</td>\n",
       "    </tr>\n",
       "    <tr>\n",
       "      <th>std</th>\n",
       "      <td>3.898986e+05</td>\n",
       "      <td>899.646164</td>\n",
       "      <td>0.319945</td>\n",
       "      <td>3.899112e+05</td>\n",
       "      <td>21.955794</td>\n",
       "      <td>2.061148</td>\n",
       "      <td>7.044319</td>\n",
       "      <td>0.414311</td>\n",
       "      <td>4.691498</td>\n",
       "      <td>2.754746</td>\n",
       "      <td>0.434475</td>\n",
       "      <td>14.681901</td>\n",
       "      <td>42.574464</td>\n",
       "      <td>230.246335</td>\n",
       "      <td>19.679155</td>\n",
       "      <td>50.261604</td>\n",
       "      <td>2.407337</td>\n",
       "      <td>0.669462</td>\n",
       "    </tr>\n",
       "    <tr>\n",
       "      <th>min</th>\n",
       "      <td>1.010000e+05</td>\n",
       "      <td>50.000000</td>\n",
       "      <td>0.000000</td>\n",
       "      <td>1.010000e+05</td>\n",
       "      <td>0.000000</td>\n",
       "      <td>0.000000</td>\n",
       "      <td>0.000000</td>\n",
       "      <td>0.000000</td>\n",
       "      <td>0.000000</td>\n",
       "      <td>0.000000</td>\n",
       "      <td>0.000000</td>\n",
       "      <td>0.000000</td>\n",
       "      <td>0.000000</td>\n",
       "      <td>0.000000</td>\n",
       "      <td>0.000000</td>\n",
       "      <td>0.000000</td>\n",
       "      <td>0.000000</td>\n",
       "      <td>0.000000</td>\n",
       "    </tr>\n",
       "    <tr>\n",
       "      <th>25%</th>\n",
       "      <td>1.070930e+05</td>\n",
       "      <td>353.000000</td>\n",
       "      <td>0.000000</td>\n",
       "      <td>1.070960e+05</td>\n",
       "      <td>4.735440</td>\n",
       "      <td>0.000000</td>\n",
       "      <td>3.000000</td>\n",
       "      <td>1.000000</td>\n",
       "      <td>0.000000</td>\n",
       "      <td>0.000000</td>\n",
       "      <td>0.000000</td>\n",
       "      <td>1.000000</td>\n",
       "      <td>13.000000</td>\n",
       "      <td>0.000000</td>\n",
       "      <td>0.000000</td>\n",
       "      <td>0.000000</td>\n",
       "      <td>1.000000</td>\n",
       "      <td>0.056150</td>\n",
       "    </tr>\n",
       "    <tr>\n",
       "      <th>50%</th>\n",
       "      <td>1.160710e+05</td>\n",
       "      <td>803.000000</td>\n",
       "      <td>0.000000</td>\n",
       "      <td>1.160720e+05</td>\n",
       "      <td>18.372610</td>\n",
       "      <td>0.000000</td>\n",
       "      <td>5.000000</td>\n",
       "      <td>1.000000</td>\n",
       "      <td>0.000000</td>\n",
       "      <td>0.000000</td>\n",
       "      <td>1.000000</td>\n",
       "      <td>3.000000</td>\n",
       "      <td>35.000000</td>\n",
       "      <td>0.000000</td>\n",
       "      <td>0.000000</td>\n",
       "      <td>0.000000</td>\n",
       "      <td>2.000000</td>\n",
       "      <td>0.097970</td>\n",
       "    </tr>\n",
       "    <tr>\n",
       "      <th>75%</th>\n",
       "      <td>2.150720e+05</td>\n",
       "      <td>1503.000000</td>\n",
       "      <td>0.000000</td>\n",
       "      <td>2.150730e+05</td>\n",
       "      <td>33.776000</td>\n",
       "      <td>0.000000</td>\n",
       "      <td>7.000000</td>\n",
       "      <td>1.000000</td>\n",
       "      <td>0.000000</td>\n",
       "      <td>0.000000</td>\n",
       "      <td>1.000000</td>\n",
       "      <td>13.000000</td>\n",
       "      <td>62.000000</td>\n",
       "      <td>0.000000</td>\n",
       "      <td>0.000000</td>\n",
       "      <td>0.000000</td>\n",
       "      <td>4.000000</td>\n",
       "      <td>0.217760</td>\n",
       "    </tr>\n",
       "    <tr>\n",
       "      <th>max</th>\n",
       "      <td>3.402096e+06</td>\n",
       "      <td>3600.000000</td>\n",
       "      <td>1.000000</td>\n",
       "      <td>3.402100e+06</td>\n",
       "      <td>214.274620</td>\n",
       "      <td>97.000000</td>\n",
       "      <td>117.000000</td>\n",
       "      <td>1.000000</td>\n",
       "      <td>124.000000</td>\n",
       "      <td>99.000000</td>\n",
       "      <td>1.000000</td>\n",
       "      <td>99.000000</td>\n",
       "      <td>241.000000</td>\n",
       "      <td>1496.000000</td>\n",
       "      <td>241.000000</td>\n",
       "      <td>201.934940</td>\n",
       "      <td>15.000000</td>\n",
       "      <td>45.093940</td>\n",
       "    </tr>\n",
       "  </tbody>\n",
       "</table>\n",
       "</div>"
      ],
      "text/plain": [
       "                 id           Time          Is_CH        who CH  \\\n",
       "count  3.746610e+05  374661.000000  374661.000000  3.746610e+05   \n",
       "mean   2.749693e+05    1064.748712       0.115766  2.749804e+05   \n",
       "std    3.898986e+05     899.646164       0.319945  3.899112e+05   \n",
       "min    1.010000e+05      50.000000       0.000000  1.010000e+05   \n",
       "25%    1.070930e+05     353.000000       0.000000  1.070960e+05   \n",
       "50%    1.160710e+05     803.000000       0.000000  1.160720e+05   \n",
       "75%    2.150720e+05    1503.000000       0.000000  2.150730e+05   \n",
       "max    3.402096e+06    3600.000000       1.000000  3.402100e+06   \n",
       "\n",
       "          Dist_To_CH          ADV_S          ADV_R         JOIN_S  \\\n",
       "count  374661.000000  374661.000000  374661.000000  374661.000000   \n",
       "mean       22.599380       0.267698       6.940562       0.779905   \n",
       "std        21.955794       2.061148       7.044319       0.414311   \n",
       "min         0.000000       0.000000       0.000000       0.000000   \n",
       "25%         4.735440       0.000000       3.000000       1.000000   \n",
       "50%        18.372610       0.000000       5.000000       1.000000   \n",
       "75%        33.776000       0.000000       7.000000       1.000000   \n",
       "max       214.274620      97.000000     117.000000       1.000000   \n",
       "\n",
       "              JOIN_R          SCH_S          SCH_R           Rank  \\\n",
       "count  374661.000000  374661.000000  374661.000000  374661.000000   \n",
       "mean        0.737493       0.288984       0.747452       9.687104   \n",
       "std         4.691498       2.754746       0.434475      14.681901   \n",
       "min         0.000000       0.000000       0.000000       0.000000   \n",
       "25%         0.000000       0.000000       0.000000       1.000000   \n",
       "50%         0.000000       0.000000       1.000000       3.000000   \n",
       "75%         0.000000       0.000000       1.000000      13.000000   \n",
       "max       124.000000      99.000000       1.000000      99.000000   \n",
       "\n",
       "              DATA_S         DATA_R   Data_Sent_To_BS   dist_CH_To_BS  \\\n",
       "count  374661.000000  374661.000000     374661.000000   374661.000000   \n",
       "mean       44.857925      73.890045          4.569448       22.562735   \n",
       "std        42.574464     230.246335         19.679155       50.261604   \n",
       "min         0.000000       0.000000          0.000000        0.000000   \n",
       "25%        13.000000       0.000000          0.000000        0.000000   \n",
       "50%        35.000000       0.000000          0.000000        0.000000   \n",
       "75%        62.000000       0.000000          0.000000        0.000000   \n",
       "max       241.000000    1496.000000        241.000000      201.934940   \n",
       "\n",
       "          send_code   Expaned Energy  \n",
       "count  374661.000000   374661.000000  \n",
       "mean        2.497957        0.305661  \n",
       "std         2.407337        0.669462  \n",
       "min         0.000000        0.000000  \n",
       "25%         1.000000        0.056150  \n",
       "50%         2.000000        0.097970  \n",
       "75%         4.000000        0.217760  \n",
       "max        15.000000       45.093940  "
      ]
     },
     "execution_count": 41,
     "metadata": {},
     "output_type": "execute_result"
    }
   ],
   "source": [
    "df.describe()"
   ]
  },
  {
   "cell_type": "code",
   "execution_count": 42,
   "id": "7f549933",
   "metadata": {},
   "outputs": [
    {
     "name": "stdout",
     "output_type": "stream",
     "text": [
      "<class 'pandas.core.frame.DataFrame'>\n",
      "RangeIndex: 374661 entries, 0 to 374660\n",
      "Data columns (total 19 columns):\n",
      " #   Column            Non-Null Count   Dtype  \n",
      "---  ------            --------------   -----  \n",
      " 0    id               374661 non-null  int64  \n",
      " 1    Time             374661 non-null  int64  \n",
      " 2    Is_CH            374661 non-null  int64  \n",
      " 3    who CH           374661 non-null  int64  \n",
      " 4    Dist_To_CH       374661 non-null  float64\n",
      " 5    ADV_S            374661 non-null  int64  \n",
      " 6    ADV_R            374661 non-null  int64  \n",
      " 7    JOIN_S           374661 non-null  int64  \n",
      " 8    JOIN_R           374661 non-null  int64  \n",
      " 9    SCH_S            374661 non-null  int64  \n",
      " 10   SCH_R            374661 non-null  int64  \n",
      " 11  Rank              374661 non-null  int64  \n",
      " 12   DATA_S           374661 non-null  int64  \n",
      " 13   DATA_R           374661 non-null  int64  \n",
      " 14   Data_Sent_To_BS  374661 non-null  int64  \n",
      " 15   dist_CH_To_BS    374661 non-null  float64\n",
      " 16   send_code        374661 non-null  int64  \n",
      " 17  Expaned Energy    374661 non-null  float64\n",
      " 18  Attack type       374661 non-null  object \n",
      "dtypes: float64(3), int64(15), object(1)\n",
      "memory usage: 54.3+ MB\n"
     ]
    }
   ],
   "source": [
    "df.info()"
   ]
  },
  {
   "cell_type": "code",
   "execution_count": 43,
   "id": "22c50991",
   "metadata": {},
   "outputs": [
    {
     "data": {
      "text/plain": [
       " id                 0\n",
       " Time               0\n",
       " Is_CH              0\n",
       " who CH             0\n",
       " Dist_To_CH         0\n",
       " ADV_S              0\n",
       " ADV_R              0\n",
       " JOIN_S             0\n",
       " JOIN_R             0\n",
       " SCH_S              0\n",
       " SCH_R              0\n",
       "Rank                0\n",
       " DATA_S             0\n",
       " DATA_R             0\n",
       " Data_Sent_To_BS    0\n",
       " dist_CH_To_BS      0\n",
       " send_code          0\n",
       "Expaned Energy      0\n",
       "Attack type         0\n",
       "dtype: int64"
      ]
     },
     "execution_count": 43,
     "metadata": {},
     "output_type": "execute_result"
    }
   ],
   "source": [
    "df.isnull().sum()"
   ]
  },
  {
   "cell_type": "code",
   "execution_count": 44,
   "id": "fe048e67",
   "metadata": {},
   "outputs": [
    {
     "data": {
      "image/png": "[encoded data removed]",
      "text/plain": [
       "<Figure size 640x480 with 1 Axes>"
      ]
     },
     "metadata": {},
     "output_type": "display_data"
    }
   ],
   "source": [
    "df['Attack type'].value_counts().plot(kind='bar')\n",
    "plt.title('Class Distribution of Attack Types')\n",
    "plt.xlabel('Attack Type')\n",
    "plt.ylabel('Frequency')\n",
    "plt.xticks(rotation=45)\n",
    "plt.show()"
   ]
  },
  {
   "cell_type": "code",
   "execution_count": 45,
   "id": "dc2452d3",
   "metadata": {},
   "outputs": [
    {
     "name": "stdout",
     "output_type": "stream",
     "text": [
      "Attack type\n",
      "Normal       340066\n",
      "Grayhole      14596\n",
      "Blackhole     10049\n",
      "TDMA           6638\n",
      "Flooding       3312\n",
      "Name: count, dtype: int64\n"
     ]
    }
   ],
   "source": [
    "attack_type_counts = df['Attack type'].value_counts()\n",
    "print(attack_type_counts)"
   ]
  },
  {
   "cell_type": "markdown",
   "id": "314e5e84",
   "metadata": {},
   "source": [
    "# Addressing Class Imbalance with a Diffusion Model\n",
    "\n",
    "The dataset is highly imbalanced. To address this, we will use a Denoising Diffusion Probabilistic Model (DDPM) to generate synthetic samples for the minority classes. This approach helps balance the dataset and improve model performance on underrepresented attack types."
   ]
  },
  {
   "cell_type": "code",
   "execution_count": 56,
   "id": "3a6406bc",
   "metadata": {},
   "outputs": [
    {
     "name": "stdout",
     "output_type": "stream",
     "text": [
      "Minority classes: ['Grayhole', 'Blackhole', 'TDMA', 'Flooding']\n",
      "Shape of minority class data: (34595, 19)\n"
     ]
    }
   ],
   "source": [
    "# Extract minority class samples and preprocess for DDPM\n",
    "from sklearn.preprocessing import StandardScaler\n",
    "\n",
    "# Identify the majority and minority classes\n",
    "majority_class = attack_type_counts.idxmax()\n",
    "minority_classes = attack_type_counts[attack_type_counts < attack_type_counts.max()].index.tolist()\n",
    "\n",
    "# Filter minority class samples\n",
    "df_minority = df[df['Attack type'].isin(minority_classes)]\n",
    "\n",
    "# Select features (excluding label columns)\n",
    "features = df_minority.drop(['Attack type'], axis=1).select_dtypes(include=[np.number])\n",
    "labels = df_minority['Attack type'].values\n",
    "\n",
    "# Standardize features\n",
    "scaler = StandardScaler()\n",
    "X_minority = scaler.fit_transform(features)\n",
    "\n",
    "print(f\"Minority classes: {minority_classes}\")\n",
    "print(f\"Shape of minority class data: {X_minority.shape}\")"
   ]
  },
  {
   "cell_type": "code",
   "execution_count": 57,
   "id": "68f4faac",
   "metadata": {},
   "outputs": [],
   "source": [
    "# Define a simple DDPM architecture using PyTorch\n",
    "import torch\n",
    "import torch.nn as nn\n",
    "import torch.nn.functional as F\n",
    "\n",
    "class SimpleDDPM(nn.Module):\n",
    "    def __init__(self, input_dim, hidden_dim=128):\n",
    "        super(SimpleDDPM, self).__init__()\n",
    "        self.fc1 = nn.Linear(input_dim, hidden_dim)\n",
    "        self.fc2 = nn.Linear(hidden_dim, hidden_dim)\n",
    "        self.fc3 = nn.Linear(hidden_dim, input_dim)\n",
    "\n",
    "    def forward(self, x, t):\n",
    "        h = F.relu(self.fc1(x))\n",
    "        h = F.relu(self.fc2(h))\n",
    "        return self.fc3(h)\n",
    "\n",
    "# Set device\n",
    "device = torch.device('cuda' if torch.cuda.is_available() else 'cpu')\n",
    "input_dim = X_minority.shape[1]\n",
    "ddpm = SimpleDDPM(input_dim).to(device)"
   ]
  },
  {
   "cell_type": "code",
   "execution_count": 58,
   "id": "ace9e3f7",
   "metadata": {},
   "outputs": [
    {
     "name": "stderr",
     "output_type": "stream",
     "text": [
      "100%|██████████| 34595/34595 [00:13<00:00, 2562.27it/s]\n",
      "100%|██████████| 34595/34595 [00:13<00:00, 2562.27it/s]\n"
     ]
    },
    {
     "name": "stdout",
     "output_type": "stream",
     "text": [
      "Epoch 1, Loss: 1.0516\n"
     ]
    },
    {
     "name": "stderr",
     "output_type": "stream",
     "text": [
      "100%|██████████| 34595/34595 [00:13<00:00, 2592.96it/s]\n",
      "100%|██████████| 34595/34595 [00:13<00:00, 2592.96it/s]\n"
     ]
    },
    {
     "name": "stdout",
     "output_type": "stream",
     "text": [
      "Epoch 2, Loss: 0.2923\n"
     ]
    },
    {
     "name": "stderr",
     "output_type": "stream",
     "text": [
      "100%|██████████| 34595/34595 [00:13<00:00, 2578.49it/s]\n",
      "100%|██████████| 34595/34595 [00:13<00:00, 2578.49it/s]\n"
     ]
    },
    {
     "name": "stdout",
     "output_type": "stream",
     "text": [
      "Epoch 3, Loss: 0.3725\n"
     ]
    },
    {
     "name": "stderr",
     "output_type": "stream",
     "text": [
      "100%|██████████| 34595/34595 [00:13<00:00, 2570.13it/s]\n",
      "\n"
     ]
    },
    {
     "name": "stdout",
     "output_type": "stream",
     "text": [
      "Epoch 4, Loss: 0.2046\n"
     ]
    },
    {
     "name": "stderr",
     "output_type": "stream",
     "text": [
      "100%|██████████| 34595/34595 [00:13<00:00, 2576.47it/s]\n",
      "100%|██████████| 34595/34595 [00:13<00:00, 2576.47it/s]\n"
     ]
    },
    {
     "name": "stdout",
     "output_type": "stream",
     "text": [
      "Epoch 5, Loss: 0.3353\n"
     ]
    },
    {
     "name": "stderr",
     "output_type": "stream",
     "text": [
      "100%|██████████| 34595/34595 [00:13<00:00, 2581.72it/s]\n",
      "100%|██████████| 34595/34595 [00:13<00:00, 2581.72it/s]\n"
     ]
    },
    {
     "name": "stdout",
     "output_type": "stream",
     "text": [
      "Epoch 6, Loss: 0.2380\n"
     ]
    },
    {
     "name": "stderr",
     "output_type": "stream",
     "text": [
      "100%|██████████| 34595/34595 [00:13<00:00, 2585.78it/s]\n",
      "100%|██████████| 34595/34595 [00:13<00:00, 2585.78it/s]\n"
     ]
    },
    {
     "name": "stdout",
     "output_type": "stream",
     "text": [
      "Epoch 7, Loss: 0.0802\n"
     ]
    },
    {
     "name": "stderr",
     "output_type": "stream",
     "text": [
      "100%|██████████| 34595/34595 [00:13<00:00, 2610.54it/s]\n",
      "100%|██████████| 34595/34595 [00:13<00:00, 2610.54it/s]\n"
     ]
    },
    {
     "name": "stdout",
     "output_type": "stream",
     "text": [
      "Epoch 8, Loss: 0.5107\n"
     ]
    },
    {
     "name": "stderr",
     "output_type": "stream",
     "text": [
      "100%|██████████| 34595/34595 [00:13<00:00, 2588.96it/s]\n",
      "100%|██████████| 34595/34595 [00:13<00:00, 2588.96it/s]\n"
     ]
    },
    {
     "name": "stdout",
     "output_type": "stream",
     "text": [
      "Epoch 9, Loss: 0.2433\n"
     ]
    },
    {
     "name": "stderr",
     "output_type": "stream",
     "text": [
      "100%|██████████| 34595/34595 [00:13<00:00, 2594.71it/s]"
     ]
    },
    {
     "name": "stdout",
     "output_type": "stream",
     "text": [
      "Epoch 10, Loss: 1.1474\n"
     ]
    },
    {
     "name": "stderr",
     "output_type": "stream",
     "text": [
      "\n"
     ]
    }
   ],
   "source": [
    "# Implement DDPM training loop for minority class data\n",
    "import tqdm\n",
    "\n",
    "def linear_beta_schedule(timesteps):\n",
    "    beta_start = 0.0001\n",
    "    beta_end = 0.02\n",
    "    return torch.linspace(beta_start, beta_end, timesteps)\n",
    "\n",
    "timesteps = 100\n",
    "betas = linear_beta_schedule(timesteps).to(device)\n",
    "alphas = 1. - betas\n",
    "alphas_cumprod = torch.cumprod(alphas, axis=0)\n",
    "\n",
    "optimizer = torch.optim.Adam(ddpm.parameters(), lr=1e-3)\n",
    "loss_fn = nn.MSELoss()\n",
    "\n",
    "X_tensor = torch.tensor(X_minority, dtype=torch.float32).to(device)\n",
    "\n",
    "for epoch in range(10):  # You can increase epochs for better results\n",
    "    for i in tqdm.tqdm(range(X_tensor.shape[0])):\n",
    "        x_0 = X_tensor[i].unsqueeze(0)\n",
    "        t = torch.randint(0, timesteps, (1,), device=device).long()\n",
    "        noise = torch.randn_like(x_0)\n",
    "        sqrt_alphas_cumprod_t = torch.sqrt(alphas_cumprod[t])\n",
    "        sqrt_one_minus_alphas_cumprod_t = torch.sqrt(1 - alphas_cumprod[t])\n",
    "        x_t = sqrt_alphas_cumprod_t * x_0 + sqrt_one_minus_alphas_cumprod_t * noise\n",
    "        predicted_noise = ddpm(x_t, t.float())\n",
    "        loss = loss_fn(predicted_noise, noise)\n",
    "        optimizer.zero_grad()\n",
    "        loss.backward()\n",
    "        optimizer.step()\n",
    "    print(f\"Epoch {epoch+1}, Loss: {loss.item():.4f}\")"
   ]
  },
  {
   "cell_type": "code",
   "execution_count": 59,
   "id": "cbb35705",
   "metadata": {},
   "outputs": [
    {
     "name": "stdout",
     "output_type": "stream",
     "text": [
      "Original dataset shape: (374661, 20)\n",
      "Augmented dataset shape: (700131, 20)\n"
     ]
    }
   ],
   "source": [
    "# Generate synthetic samples using the trained DDPM and augment the dataset\n",
    "num_synthetic = attack_type_counts.max() - attack_type_counts[minority_classes].max()\n",
    "synthetic_samples = []\n",
    "ddpm.eval()\n",
    "\n",
    "for _ in range(num_synthetic):\n",
    "    x_t = torch.randn(1, input_dim).to(device)\n",
    "    for t in reversed(range(timesteps)):\n",
    "        t_tensor = torch.full((1,), t, device=device, dtype=torch.float32)\n",
    "        predicted_noise = ddpm(x_t, t_tensor)\n",
    "        alpha = alphas[t]\n",
    "        alpha_cumprod = alphas_cumprod[t]\n",
    "        x_t = (x_t - (1 - alpha).sqrt() * predicted_noise) / alpha.sqrt()\n",
    "        if t > 0:\n",
    "            noise = torch.randn_like(x_t)\n",
    "            x_t += betas[t].sqrt() * noise\n",
    "    synthetic = x_t.detach().cpu().numpy().squeeze()\n",
    "    synthetic_samples.append(synthetic)\n",
    "\n",
    "synthetic_samples = scaler.inverse_transform(np.array(synthetic_samples))\n",
    "\n",
    "# Create a DataFrame for synthetic samples (assign to a random minority class)\n",
    "synthetic_df = pd.DataFrame(synthetic_samples, columns=features.columns)\n",
    "synthetic_df['Attack type'] = np.random.choice(minority_classes, size=num_synthetic)\n",
    "\n",
    "# Augment the original dataframe\n",
    "df_augmented = pd.concat([df, synthetic_df], ignore_index=True)\n",
    "print(f\"Original dataset shape: {df.shape}\")\n",
    "print(f\"Augmented dataset shape: {df_augmented.shape}\")"
   ]
  },
  {
   "cell_type": "markdown",
   "id": "47abf990",
   "metadata": {},
   "source": [
    "# Evaluating the Effectiveness of DDPM-Generated Synthetic Data\n",
    "\n",
    "To assess the impact of the DDPM model, we will compare the performance of a classifier trained on the original imbalanced dataset versus the augmented dataset (with synthetic samples). We will use metrics such as accuracy, F1-score, and recall, with a focus on the minority classes."
   ]
  },
  {
   "cell_type": "code",
   "execution_count": 60,
   "id": "28d53ee6",
   "metadata": {},
   "outputs": [
    {
     "name": "stdout",
     "output_type": "stream",
     "text": [
      "Classification Report (Original Dataset):\n",
      "              precision    recall  f1-score   support\n",
      "\n",
      "   Blackhole     1.0000    1.0000    1.0000      2010\n",
      "    Flooding     1.0000    1.0000    1.0000       662\n",
      "    Grayhole     1.0000    1.0000    1.0000      2919\n",
      "      Normal     1.0000    1.0000    1.0000     68014\n",
      "        TDMA     1.0000    1.0000    1.0000      1328\n",
      "\n",
      "    accuracy                         1.0000     74933\n",
      "   macro avg     1.0000    1.0000    1.0000     74933\n",
      "weighted avg     1.0000    1.0000    1.0000     74933\n",
      "\n",
      "              precision    recall  f1-score   support\n",
      "\n",
      "   Blackhole     1.0000    1.0000    1.0000      2010\n",
      "    Flooding     1.0000    1.0000    1.0000       662\n",
      "    Grayhole     1.0000    1.0000    1.0000      2919\n",
      "      Normal     1.0000    1.0000    1.0000     68014\n",
      "        TDMA     1.0000    1.0000    1.0000      1328\n",
      "\n",
      "    accuracy                         1.0000     74933\n",
      "   macro avg     1.0000    1.0000    1.0000     74933\n",
      "weighted avg     1.0000    1.0000    1.0000     74933\n",
      "\n"
     ]
    }
   ],
   "source": [
    "# Train and evaluate a classifier on the original imbalanced dataset\n",
    "from sklearn.ensemble import RandomForestClassifier\n",
    "from sklearn.metrics import classification_report\n",
    "from sklearn.model_selection import train_test_split\n",
    "\n",
    "# Prepare features and labels for the original dataset\n",
    "X_orig = df.drop(['Attack type'], axis=1).select_dtypes(include=[np.number])\n",
    "y_orig = df['Attack type']\n",
    "\n",
    "X_train, X_test, y_train, y_test = train_test_split(X_orig, y_orig, test_size=0.2, stratify=y_orig, random_state=42)\n",
    "\n",
    "clf_orig = RandomForestClassifier(class_weight='balanced', random_state=42)\n",
    "clf_orig.fit(X_train, y_train)\n",
    "y_pred_orig = clf_orig.predict(X_test)\n",
    "\n",
    "print(\"Classification Report (Original Dataset):\")\n",
    "print(classification_report(y_test, y_pred_orig, digits=4))"
   ]
  },
  {
   "cell_type": "code",
   "execution_count": 61,
   "id": "1cf2691e",
   "metadata": {},
   "outputs": [
    {
     "name": "stdout",
     "output_type": "stream",
     "text": [
      "Classification Report (Augmented Dataset):\n",
      "              precision    recall  f1-score   support\n",
      "\n",
      "   Blackhole     0.3254    0.3579    0.3409     18268\n",
      "    Flooding     0.2839    0.2843    0.2841     16872\n",
      "    Grayhole     0.3688    0.3502    0.3593     19099\n",
      "      Normal     1.0000    1.0000    1.0000     68014\n",
      "        TDMA     0.3047    0.2895    0.2969     17774\n",
      "\n",
      "    accuracy                         0.6512    140027\n",
      "   macro avg     0.4566    0.4564    0.4562    140027\n",
      "weighted avg     0.6514    0.6512    0.6511    140027\n",
      "\n",
      "              precision    recall  f1-score   support\n",
      "\n",
      "   Blackhole     0.3254    0.3579    0.3409     18268\n",
      "    Flooding     0.2839    0.2843    0.2841     16872\n",
      "    Grayhole     0.3688    0.3502    0.3593     19099\n",
      "      Normal     1.0000    1.0000    1.0000     68014\n",
      "        TDMA     0.3047    0.2895    0.2969     17774\n",
      "\n",
      "    accuracy                         0.6512    140027\n",
      "   macro avg     0.4566    0.4564    0.4562    140027\n",
      "weighted avg     0.6514    0.6512    0.6511    140027\n",
      "\n"
     ]
    }
   ],
   "source": [
    "# Train and evaluate a classifier on the augmented dataset with DDPM synthetic samples\n",
    "X_aug = df_augmented.drop(['Attack type'], axis=1).select_dtypes(include=[np.number])\n",
    "y_aug = df_augmented['Attack type']\n",
    "\n",
    "X_train_aug, X_test_aug, y_train_aug, y_test_aug = train_test_split(X_aug, y_aug, test_size=0.2, stratify=y_aug, random_state=42)\n",
    "\n",
    "clf_aug = RandomForestClassifier(class_weight='balanced', random_state=42)\n",
    "clf_aug.fit(X_train_aug, y_train_aug)\n",
    "y_pred_aug = clf_aug.predict(X_test_aug)\n",
    "\n",
    "print(\"Classification Report (Augmented Dataset):\")\n",
    "print(classification_report(y_test_aug, y_pred_aug, digits=4))"
   ]
  },
  {
   "cell_type": "code",
   "execution_count": 62,
   "id": "850752f9",
   "metadata": {},
   "outputs": [
    {
     "data": {
      "image/png": "[encoded data removed]",
      "text/plain": [
       "<Figure size 1200x600 with 1 Axes>"
      ]
     },
     "metadata": {},
     "output_type": "display_data"
    },
    {
     "name": "stdout",
     "output_type": "stream",
     "text": [
      "Overall Accuracy (Original): 1.0000\n",
      "Overall Accuracy (Augmented): 0.6512\n"
     ]
    }
   ],
   "source": [
    "# Compare and visualize the results for both datasets\n",
    "import matplotlib.pyplot as plt\n",
    "import numpy as np\n",
    "from sklearn.metrics import f1_score, recall_score, accuracy_score\n",
    "\n",
    "# Calculate metrics for both datasets\n",
    "f1_orig = f1_score(y_test, y_pred_orig, average=None, labels=np.unique(y_test))\n",
    "f1_aug = f1_score(y_test_aug, y_pred_aug, average=None, labels=np.unique(y_test_aug))\n",
    "recall_orig = recall_score(y_test, y_pred_orig, average=None, labels=np.unique(y_test))\n",
    "recall_aug = recall_score(y_test_aug, y_pred_aug, average=None, labels=np.unique(y_test_aug))\n",
    "accuracy_orig = accuracy_score(y_test, y_pred_orig)\n",
    "accuracy_aug = accuracy_score(y_test_aug, y_pred_aug)\n",
    "\n",
    "labels_list = np.unique(list(y_test) + list(y_test_aug))\n",
    "\n",
    "x = np.arange(len(labels_list))\n",
    "width = 0.35\n",
    "\n",
    "plt.figure(figsize=(12, 6))\n",
    "plt.bar(x - width/2, f1_orig, width, label='Original F1')\n",
    "plt.bar(x + width/2, f1_aug, width, label='Augmented F1')\n",
    "plt.xticks(x, labels_list, rotation=45)\n",
    "plt.ylabel('F1 Score')\n",
    "plt.title('F1 Score per Class: Original vs Augmented')\n",
    "plt.legend()\n",
    "plt.tight_layout()\n",
    "plt.show()\n",
    "\n",
    "print(f\"Overall Accuracy (Original): {accuracy_orig:.4f}\")\n",
    "print(f\"Overall Accuracy (Augmented): {accuracy_aug:.4f}\")"
   ]
  }
 ],
 "metadata": {
  "kernelspec": {
   "display_name": ".venv",
   "language": "python",
   "name": "python3"
  },
  "language_info": {
   "codemirror_mode": {
    "name": "ipython",
    "version": 3
   },
   "file_extension": ".py",
   "mimetype": "text/x-python",
   "name": "python",
   "nbconvert_exporter": "python",
   "pygments_lexer": "ipython3",
   "version": "3.9.6"
  }
 },
 "nbformat": 4,
 "nbformat_minor": 5
}
